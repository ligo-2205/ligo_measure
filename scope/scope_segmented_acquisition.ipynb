{
 "cells": [
  {
   "cell_type": "code",
   "execution_count": null,
   "metadata": {},
   "outputs": [],
   "source": [
    "import matplotlib as mpl \n",
    "import matplotlib.pyplot as plt \n",
    "\n",
    "import keyoscacquire as koa\n",
    "\n",
    "from time import sleep\n",
    "\n",
    "# a python file of useful commands!\n",
    "from infiniivision2000x import *"
   ]
  },
  {
   "cell_type": "code",
   "execution_count": null,
   "metadata": {},
   "outputs": [],
   "source": [
    "# connect to the oscilloscope using it's VISA address \n",
    "# time out is 60 seconds\n",
    "scope = koa.Oscilloscope(address='USB0::2391::6038::MY58104655::INSTR', timeout=60e3)"
   ]
  },
  {
   "cell_type": "code",
   "execution_count": null,
   "metadata": {},
   "outputs": [],
   "source": [
    "# change the acquisition type. \n",
    "# we can select between normal, averaging, and high resolution\n",
    "scope.acq_type = 'NORMal'"
   ]
  },
  {
   "cell_type": "code",
   "execution_count": null,
   "metadata": {},
   "outputs": [],
   "source": [
    "# configure the time per division to be 100 ms \n",
    "set_time_per_division(scope, 100e-3)"
   ]
  },
  {
   "cell_type": "code",
   "execution_count": null,
   "metadata": {},
   "outputs": [],
   "source": [
    "# configure the volts per division to be 100 mV  \n",
    "set_range(scope, 100e-3)"
   ]
  },
  {
   "cell_type": "code",
   "execution_count": null,
   "metadata": {},
   "outputs": [],
   "source": [
    "# this makes sure the scope is acquiring segmented\n",
    "scope.write(':ACQuire:MODE SEGMented')"
   ]
  },
  {
   "cell_type": "code",
   "execution_count": null,
   "metadata": {},
   "outputs": [],
   "source": [
    "# confim the current acquistion mode \n",
    "get_acq_mode(scope)"
   ]
  },
  {
   "cell_type": "code",
   "execution_count": null,
   "metadata": {},
   "outputs": [],
   "source": [
    "# let's acquire 6 segments at the current time per division \n",
    "# the more segments you acquire, the smaller time resolution! \n",
    "set_seg_count(scope, 6)"
   ]
  },
  {
   "cell_type": "code",
   "execution_count": null,
   "metadata": {},
   "outputs": [],
   "source": [
    "# confirm the number of segments to acquire was properly set \n",
    "get_seg_count(scope)"
   ]
  },
  {
   "cell_type": "code",
   "execution_count": null,
   "metadata": {},
   "outputs": [],
   "source": [
    "# once everything is set up, we can call run to start the acquistion \n",
    "run(scope)"
   ]
  },
  {
   "cell_type": "code",
   "execution_count": null,
   "metadata": {},
   "outputs": [],
   "source": [
    "# Ask for how many segments have been acquired so far. \n",
    "# This command can be called during the oscilloscope makes the acquisition!\n",
    "get_current_seg_number(scope)"
   ]
  },
  {
   "cell_type": "code",
   "execution_count": null,
   "metadata": {},
   "outputs": [],
   "source": [
    "# if things are taking too long, we can call \"stop\" to stop the acquisition \n",
    "stop(scope)"
   ]
  },
  {
   "cell_type": "markdown",
   "metadata": {},
   "source": [
    "Analysis of the acquired segments on the oscilloscope"
   ]
  },
  {
   "cell_type": "code",
   "execution_count": null,
   "metadata": {},
   "outputs": [],
   "source": [
    "# look at segment number 1 on the oscilloscope\n",
    "set_current_seg(scope, 1)\n",
    "# Ask for the time tag of the selected segment\n",
    "get_current_seg_timetag(scope)"
   ]
  },
  {
   "cell_type": "markdown",
   "metadata": {},
   "source": [
    "After acquiring all the segments from the oscilloscope, we can also save the data from the oscilloscope and analyze it on the computer."
   ]
  },
  {
   "cell_type": "code",
   "execution_count": null,
   "metadata": {},
   "outputs": [],
   "source": [
    "# provide the file name of what you would like the data to be called \n",
    "save_segmented_data(scope, \"test\")"
   ]
  },
  {
   "cell_type": "markdown",
   "metadata": {},
   "source": [
    "`data/dat2.csv` is a file we acquired by calling the command above. Let's open it."
   ]
  },
  {
   "cell_type": "code",
   "execution_count": 16,
   "metadata": {},
   "outputs": [],
   "source": [
    "import numpy as np\n",
    "import pandas as pd\n",
    "import matplotlib.pyplot as plt\n",
    "\n",
    "import csv as c\n",
    "from pathlib import Path"
   ]
  },
  {
   "cell_type": "code",
   "execution_count": 31,
   "metadata": {},
   "outputs": [],
   "source": [
    "def csv(filename: str, skiprows = 4):\n",
    "    \"\"\"Reads a csv file at a particular location, and extracts the sampling frequency by assuming the first column read in csv file is the time axis, in seconds\n",
    "\n",
    "    Args:\n",
    "        filename (std): the path to the file we want to analyze \n",
    "        skiprows (int, optional): the number of rows in the data file we want to skip. Defaults to 4.\n",
    "\n",
    "    Returns:\n",
    "        A pandas data frame containing the data, and the sampling frequency  \n",
    "    \"\"\"\n",
    "    df = pd.read_csv(filename, delimiter=\",\", skiprows = skiprows, header=None)\n",
    "    t = df.iloc[:,0].to_numpy()\n",
    "    \n",
    "    # compute fs by taking the average slope of the time axis \n",
    "    fs = np.round(1/np.mean(np.gradient(t)))\n",
    "    print(\"Rounded to sampling frequency: {} Hz\".format(fs))\n",
    "    print(\"Actual: {} Hz\".format(1/(t[1] - t[0])))\n",
    "    return df, fs "
   ]
  },
  {
   "cell_type": "code",
   "execution_count": 32,
   "metadata": {},
   "outputs": [
    {
     "data": {
      "text/plain": [
       "{0: WindowsPath('../data/dat0.csv'),\n",
       " 1: WindowsPath('../data/dat1.csv'),\n",
       " 2: WindowsPath('../data/dat2.csv')}"
      ]
     },
     "execution_count": 32,
     "metadata": {},
     "output_type": "execute_result"
    }
   ],
   "source": [
    "dir = Path(\"../data\")\n",
    "dat = dict() \n",
    "\n",
    "for d in dir.glob(\"*.csv\"):\n",
    "    dat_num = int(d.stem.replace(\"dat\", \"\"))\n",
    "    dat[dat_num] = d \n",
    "    \n",
    "# heres a list of all the data we have \n",
    "dat"
   ]
  },
  {
   "cell_type": "code",
   "execution_count": 33,
   "metadata": {},
   "outputs": [],
   "source": [
    "# use the python csv to read the first line of the file. \n",
    "with open(dat[2], ) as csvfile: \n",
    "    reader = c.reader(csvfile)\n",
    "    row1 = next(reader)"
   ]
  },
  {
   "cell_type": "code",
   "execution_count": 34,
   "metadata": {},
   "outputs": [],
   "source": [
    "# this gives us a list of all the starting times of each segment\n",
    "time_stamp = [float(i) for i in row1[1:]]"
   ]
  },
  {
   "cell_type": "code",
   "execution_count": 35,
   "metadata": {},
   "outputs": [
    {
     "name": "stdout",
     "output_type": "stream",
     "text": [
      "Rounded to sampling frequency: 3846.0 Hz\n",
      "Actual: 3846.1538461549267 Hz\n"
     ]
    }
   ],
   "source": [
    "df, fs = csv(dat[2], skiprows=3)"
   ]
  },
  {
   "cell_type": "code",
   "execution_count": 39,
   "metadata": {},
   "outputs": [
    {
     "data": {
      "text/plain": [
       "(7693, 252)"
      ]
     },
     "execution_count": 39,
     "metadata": {},
     "output_type": "execute_result"
    }
   ],
   "source": [
    "# our data has (rows, columns)\n",
    "df.shape"
   ]
  },
  {
   "cell_type": "code",
   "execution_count": 61,
   "metadata": {},
   "outputs": [
    {
     "data": {
      "image/png": "[encoded data removed]",
      "text/plain": [
       "<Figure size 432x288 with 1 Axes>"
      ]
     },
     "metadata": {
      "needs_background": "light"
     },
     "output_type": "display_data"
    }
   ],
   "source": [
    "time = df.iloc[:, 0] # the time axis is the 0th column in the data \n",
    "\n",
    "for i in range(1, df.shape[1] - 1):\n",
    "    plt.plot(time + time_stamp[i-1], df.iloc[:, i])\n",
    "    plt.xlabel(\"Time (s)\")\n",
    "    plt.ylabel(\"Voltage (V)\")"
   ]
  },
  {
   "cell_type": "markdown",
   "metadata": {},
   "source": [
    "We can zoom into the data between 0 and 5 seconds to see that there are small discontinuities between the acquired segments. "
   ]
  },
  {
   "cell_type": "code",
   "execution_count": 63,
   "metadata": {},
   "outputs": [
    {
     "data": {
      "image/png": "[encoded data removed]",
      "text/plain": [
       "<Figure size 432x288 with 1 Axes>"
      ]
     },
     "metadata": {
      "needs_background": "light"
     },
     "output_type": "display_data"
    }
   ],
   "source": [
    "time = df.iloc[:, 0] # the time axis is the 0th column in the data \n",
    "\n",
    "for i in range(1, df.shape[1] - 1):\n",
    "    plt.plot(time + time_stamp[i-1], df.iloc[:, i])\n",
    "    plt.xlabel(\"Time (s)\")\n",
    "    plt.ylabel(\"Voltage (V)\")\n",
    "    plt.xlim(0, 5)"
   ]
  }
 ],
 "metadata": {
  "interpreter": {
   "hash": "cf84bb6cc98c5b5dbef382cde0f5802d0a5166a8560a0d8229b2d9763b50fc01"
  },
  "kernelspec": {
   "display_name": "Python 3.9.6 ('ray')",
   "language": "python",
   "name": "python3"
  },
  "language_info": {
   "codemirror_mode": {
    "name": "ipython",
    "version": 3
   },
   "file_extension": ".py",
   "mimetype": "text/x-python",
   "name": "python",
   "nbconvert_exporter": "python",
   "pygments_lexer": "ipython3",
   "version": "3.9.6"
  },
  "orig_nbformat": 4
 },
 "nbformat": 4,
 "nbformat_minor": 2
}
