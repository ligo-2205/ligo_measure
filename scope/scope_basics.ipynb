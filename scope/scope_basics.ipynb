{
 "cells": [
  {
   "cell_type": "code",
   "execution_count": 1,
   "metadata": {},
   "outputs": [],
   "source": [
    "import matplotlib as mpl \n",
    "import matplotlib.pyplot as plt \n",
    "\n",
    "import keyoscacquire as koa\n",
    "\n",
    "from time import sleep\n",
    "\n",
    "# a python file of useful commands!\n",
    "from infiniivision2000x import *"
   ]
  },
  {
   "cell_type": "code",
   "execution_count": 2,
   "metadata": {},
   "outputs": [
    {
     "name": "stdout",
     "output_type": "stream",
     "text": [
      "Connected to:\n",
      "  AGILENT TECHNOLOGIES\n",
      "  DSO-X 2024A (serial MY58104655)\n"
     ]
    }
   ],
   "source": [
    "# connect to the oscilloscope using it's VISA address \n",
    "# time out is 60 seconds\n",
    "scope = koa.Oscilloscope(address='USB0::2391::6038::MY58104655::INSTR', timeout=60e3)"
   ]
  },
  {
   "cell_type": "code",
   "execution_count": 4,
   "metadata": {},
   "outputs": [],
   "source": [
    "# change the acquisition type. \n",
    "# we can select between normal, averaging, and high resolution\n",
    "scope.acq_type = 'NORMal'"
   ]
  },
  {
   "cell_type": "code",
   "execution_count": 6,
   "metadata": {},
   "outputs": [],
   "source": [
    "# this makes sure the scope is acquiring in real time, as opposed to acquring in segmented \n",
    "scope.write(':ACQuire:MODE RTIMe')"
   ]
  },
  {
   "cell_type": "code",
   "execution_count": 3,
   "metadata": {},
   "outputs": [],
   "source": [
    "# configure the time per division to be 100 ms \n",
    "set_time_per_division(scope, 100e-3)"
   ]
  },
  {
   "cell_type": "code",
   "execution_count": null,
   "metadata": {},
   "outputs": [],
   "source": [
    "# configure the volts per division to be 100 mV  \n",
    "set_range(scope, 100e-3)"
   ]
  },
  {
   "cell_type": "code",
   "execution_count": null,
   "metadata": {},
   "outputs": [],
   "source": [
    "# specify the channels you want to pull data from \n",
    "time, y, channel_numbers = scope.get_trace(channels=[1,2])\n",
    "# saves the data as a file called \"dat1\" in the current folder\n",
    "scope.save_trace(fname = \"dat1\", \n",
    "                 additional_header_info=\"Additional header here!\",\n",
    "                 showplot=False)"
   ]
  }
 ],
 "metadata": {
  "interpreter": {
   "hash": "cf84bb6cc98c5b5dbef382cde0f5802d0a5166a8560a0d8229b2d9763b50fc01"
  },
  "kernelspec": {
   "display_name": "Python 3.9.6 ('ray')",
   "language": "python",
   "name": "python3"
  },
  "language_info": {
   "codemirror_mode": {
    "name": "ipython",
    "version": 3
   },
   "file_extension": ".py",
   "mimetype": "text/x-python",
   "name": "python",
   "nbconvert_exporter": "python",
   "pygments_lexer": "ipython3",
   "version": "3.9.6"
  },
  "orig_nbformat": 4
 },
 "nbformat": 4,
 "nbformat_minor": 2
}
